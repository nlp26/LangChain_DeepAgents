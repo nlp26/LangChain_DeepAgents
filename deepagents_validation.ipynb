{
 "cells": [
  {
   "cell_type": "markdown",
   "id": "9311f442",
   "metadata": {},
   "source": [
    "\n",
    "# DeepAgents Validation \n",
    "A minimal, **runnable** mock of a LangChain DeepAgents-style workflow to validate data output and step ordering.\n",
    "\n",
    "- Step **7 = Diagnostics** (runs first)\n",
    "- Step **8 = Run-All Validation** (runs after diagnostics)\n",
    "- No duplicate `__main__` blocks\n",
    "- All functions defined cohesively within single cells (no indentation breakage)\n"
   ]
  },
  {
   "cell_type": "code",
   "execution_count": 1,
   "id": "da8e0490",
   "metadata": {},
   "outputs": [],
   "source": [
    "\n",
    "from __future__ import annotations\n",
    "from dataclasses import dataclass, field\n",
    "from typing import List, Dict, Any, Optional\n"
   ]
  },
  {
   "cell_type": "code",
   "execution_count": 2,
   "id": "a56a5fd3",
   "metadata": {},
   "outputs": [],
   "source": [
    "\n",
    "@dataclass\n",
    "class Message:\n",
    "    role: str\n",
    "    content: str\n"
   ]
  },
  {
   "cell_type": "code",
   "execution_count": 3,
   "id": "0eb2b6a8",
   "metadata": {},
   "outputs": [],
   "source": [
    "\n",
    "@dataclass\n",
    "class MockAgent:\n",
    "    name: str\n",
    "    memory: Dict[str, Any] = field(default_factory=dict)\n",
    "\n",
    "    def _get_thread(self, config: Optional[Dict[str, Any]] = None) -> str:\n",
    "        cfg = (config or {}).get(\"configurable\", {})\n",
    "        return cfg.get(\"thread_id\", \"default-thread\")\n",
    "\n",
    "    def invoke(self, payload: Dict[str, Any], config: Optional[Dict[str, Any]] = None) -> Dict[str, Any]:\n",
    "        thread = self._get_thread(config)\n",
    "        msgs: List[Message] = [\n",
    "            Message(**m) if not isinstance(m, Message) else m\n",
    "            for m in payload.get(\"messages\", [])\n",
    "        ]\n",
    "\n",
    "        # Super simple behavior & memory\n",
    "        last_user = next((m for m in reversed(msgs) if m.role == \"user\"), None)\n",
    "\n",
    "        # Memory store/recall\n",
    "        if last_user and \"favorite topic is\" in last_user.content.lower():\n",
    "            topic = last_user.content.split(\"is\", 1)[-1].strip().rstrip(\".\")\n",
    "            self.memory.setdefault(thread, {})[\"favorite_topic\"] = topic\n",
    "            reply = f\"Noted. I'll remember your favorite topic is {topic}.\"\n",
    "        elif last_user and \"what's my favorite topic\" in last_user.content.lower():\n",
    "            topic = self.memory.get(thread, {}).get(\"favorite_topic\", \"unknown\")\n",
    "            reply = f\"You told me your favorite topic is {topic}.\"\n",
    "        elif last_user and \"plan:\" in last_user.content.lower():\n",
    "            # Make a tiny plan\n",
    "            steps = [\"Research requirement\", \"Draft outline\", \"Implement\", \"Test\", \"Deliver\"]\n",
    "            reply = \"Plan generated:\\n\" + \"\\n\".join(f\"{i+1}. {s}\" for i, s in enumerate(steps))\n",
    "        elif last_user and \"search(\" in last_user.content.lower():\n",
    "            # mock search tool usage\n",
    "            reply = \"Search results: ['doc_a', 'doc_b', 'doc_c']\"\n",
    "        else:\n",
    "            reply = f\"Hello from {self.name}. You said: {last_user.content if last_user else '(no input)'}\"\n",
    "\n",
    "        # Correctly indented return block\n",
    "        result_msgs = msgs + [Message(role=\"assistant\", content=reply)]\n",
    "        return {\n",
    "            \"messages\": [m.__dict__ for m in result_msgs],\n",
    "            \"state\": {\"thread_id\": thread, \"memory\": self.memory.get(thread, {})},\n",
    "        }\n"
   ]
  },
  {
   "cell_type": "code",
   "execution_count": 4,
   "id": "8a7fea36",
   "metadata": {},
   "outputs": [],
   "source": [
    "\n",
    "@dataclass\n",
    "class MockCoordinator:\n",
    "    planner: MockAgent\n",
    "    researcher: MockAgent\n",
    "    implementer: MockAgent\n",
    "\n",
    "    def invoke(self, payload: Dict[str, Any], config: Optional[Dict[str, Any]] = None) -> Dict[str, Any]:\n",
    "        # very naive: planner -> researcher -> implementer\n",
    "        thread = (config or {}).get(\"configurable\", {}).get(\"thread_id\", \"default-thread\")\n",
    "        messages = payload.get(\"messages\", [])\n",
    "\n",
    "        p = self.planner.invoke({\"messages\": messages + [Message(role=\"user\", content=\"Plan: build a demo\").__dict__]}, config)\n",
    "        r = self.researcher.invoke({\"messages\": p[\"messages\"] + [Message(role=\"user\", content=\"search(query='demo')\").__dict__]}, config)\n",
    "        i = self.implementer.invoke({\"messages\": r[\"messages\"] + [Message(role=\"user\", content=\"Implement based on findings.\").__dict__]}, config)\n",
    "\n",
    "        return i\n"
   ]
  },
  {
   "cell_type": "code",
   "execution_count": 5,
   "id": "7580c673",
   "metadata": {},
   "outputs": [],
   "source": [
    "\n",
    "def make_basic_agent(name: str = \"basic-agent\") -> MockAgent:\n",
    "    return MockAgent(name=name)\n",
    "\n",
    "def _pretty_last(messages: List[Dict[str, Any]]) -> str:\n",
    "    if not messages:\n",
    "        return \"(no messages)\"\n",
    "    return messages[-1].get(\"content\", \"(no content)\")\n"
   ]
  },
  {
   "cell_type": "markdown",
   "id": "8a7f7bdf",
   "metadata": {},
   "source": [
    "## Tests 2–6"
   ]
  },
  {
   "cell_type": "code",
   "execution_count": 6,
   "id": "02b30c13",
   "metadata": {},
   "outputs": [],
   "source": [
    "\n",
    "# 2. CREATE A BASIC AGENT\n",
    "def test_basic_agent() -> MockAgent:\n",
    "    agent = make_basic_agent()\n",
    "    result = agent.invoke({\"messages\": [Message(role=\"user\", content=\"Hello\").__dict__]})\n",
    "    assert \"messages\" in result and isinstance(result[\"messages\"], list)\n",
    "    assert result[\"messages\"][-1][\"role\"] == \"assistant\"\n",
    "    print(\"✓ Basic agent returns assistant message\")\n",
    "    return agent\n",
    "\n",
    "# 3. TEST SUBAGENTS\n",
    "def test_subagents() -> MockCoordinator:\n",
    "    planner = make_basic_agent(\"planner\")\n",
    "    researcher = make_basic_agent(\"researcher\")\n",
    "    implementer = make_basic_agent(\"implementer\")\n",
    "    coord = MockCoordinator(planner=planner, researcher=researcher, implementer=implementer)\n",
    "\n",
    "    out = coord.invoke({\"messages\": [Message(role=\"user\", content=\"Build something cool.\").__dict__]})\n",
    "    assert isinstance(out, dict) and \"messages\" in out\n",
    "    print(\"✓ Subagents coordinator returns final messages\")\n",
    "    return coord\n",
    "\n",
    "# 4. TEST BACKEND CUSTOMIZATION\n",
    "def test_custom_backend() -> MockAgent:\n",
    "    # In real LC DeepAgents you'd switch LLM/tool backends; we just rename for visibility\n",
    "    agent = make_basic_agent(name=\"custom-backend-agent\")\n",
    "    res = agent.invoke({\"messages\": [Message(role=\"user\", content=\"Hello custom\").__dict__]})\n",
    "    assert res[\"messages\"][-1][\"role\"] == \"assistant\"\n",
    "    print(\"✓ Custom backend stub works\")\n",
    "    return agent\n",
    "\n",
    "# 5. TEST PLANNING TOOL\n",
    "def test_planning_tool() -> MockAgent:\n",
    "    agent = make_basic_agent(\"planner\")\n",
    "    res = agent.invoke({\"messages\": [Message(role=\"user\", content=\"Plan: Ship a feature\").__dict__]})\n",
    "    assistant_text = res[\"messages\"][-1][\"content\"]\n",
    "    assert \"Plan generated:\" in assistant_text\n",
    "    print(\"✓ Planning generated a sequence of steps\")\n",
    "    return agent\n",
    "\n",
    "# 6. TEST MEMORY PERSISTENCE\n",
    "def test_memory_persistence() -> MockAgent:\n",
    "    agent = make_basic_agent(\"memory-agent\")\n",
    "    config = {\"configurable\": {\"thread_id\": \"test-thread-1\"}}\n",
    "\n",
    "    # First: store preference\n",
    "    agent.invoke({\"messages\": [Message(role=\"user\", content=\"My favorite topic is AI agents.\").__dict__]}, config)\n",
    "    # Second: recall\n",
    "    res = agent.invoke({\"messages\": [Message(role=\"user\", content=\"What's my favorite topic?\").__dict__]}, config)\n",
    "\n",
    "    assert \"AI agents\" in res[\"messages\"][-1][\"content\"]\n",
    "    assert res[\"state\"][\"memory\"].get(\"favorite_topic\") == \"AI agents\"\n",
    "    print(\"✓ Memory persists across thread using config.thread_id\")\n",
    "    return agent\n"
   ]
  },
  {
   "cell_type": "markdown",
   "id": "ea2d6d0f",
   "metadata": {},
   "source": [
    "## 7. Diagnostics (runs first)"
   ]
  },
  {
   "cell_type": "code",
   "execution_count": 7,
   "id": "2981466c",
   "metadata": {},
   "outputs": [],
   "source": [
    "\n",
    "def run_diagnostics() -> None:\n",
    "    print(\"\\n=== Diagnostic: Basic Agent ===\")\n",
    "    a = test_basic_agent()\n",
    "    r = a.invoke({\"messages\": [Message(role=\"user\", content=\"Echo me please\").__dict__]})\n",
    "    print(\"Last:\", _pretty_last(r[\"messages\"]))\n",
    "\n",
    "    print(\"\\n=== Diagnostic: Subagents ===\")\n",
    "    c = test_subagents()\n",
    "    sub = c.invoke({\"messages\": [Message(role=\"user\", content=\"Do multi-step\").__dict__]})\n",
    "    print(\"Last:\", _pretty_last(sub[\"messages\"]))\n",
    "\n",
    "    print(\"\\n=== Diagnostic: Planning ===\")\n",
    "    p = test_planning_tool()\n",
    "    plan = p.invoke({\"messages\": [Message(role=\"user\", content=\"Show the plan again.\").__dict__]})\n",
    "    print(\"Last:\", _pretty_last(plan[\"messages\"]))\n",
    "\n",
    "    print(\"\\n=== Diagnostic: Memory ===\")\n",
    "    m = test_memory_persistence()\n",
    "    recall = m.invoke({\"messages\": [Message(role=\"user\", content=\"What's my favorite topic?\").__dict__]}, {\"configurable\": {\"thread_id\": \"test-thread-1\"}})\n",
    "    print(\"Last:\", _pretty_last(recall[\"messages\"]))\n",
    "\n",
    "    print(\"\\nDiagnostics complete.\")\n"
   ]
  },
  {
   "cell_type": "markdown",
   "id": "e619704d",
   "metadata": {},
   "source": [
    "## 8. Run All Validation (runs after diagnostics)"
   ]
  },
  {
   "cell_type": "code",
   "execution_count": 8,
   "id": "99262c56",
   "metadata": {},
   "outputs": [],
   "source": [
    "\n",
    "def run_validation() -> None:\n",
    "    print(\"\\n\" + \"=\"*60)\n",
    "    print(\"🧠 Deep Agents Validation Suite\")\n",
    "    print(\"=\"*60)\n",
    "    try:\n",
    "        test_basic_agent()\n",
    "        test_subagents()\n",
    "        test_custom_backend()\n",
    "        test_planning_tool()\n",
    "        test_memory_persistence()\n",
    "        print(\"\\n\" + \"=\"*60)\n",
    "        print(\"✅ All validation tests completed successfully!\")\n",
    "        print(\"=\"*60)\n",
    "    except Exception as e:\n",
    "        print(f\"\\n❌ Validation failed: {e}\")\n",
    "        raise\n"
   ]
  },
  {
   "cell_type": "markdown",
   "id": "40aeb579",
   "metadata": {},
   "source": [
    "### Execute"
   ]
  },
  {
   "cell_type": "code",
   "execution_count": 9,
   "id": "ef7f99af",
   "metadata": {},
   "outputs": [
    {
     "name": "stdout",
     "output_type": "stream",
     "text": [
      "\n",
      "=== Diagnostic: Basic Agent ===\n",
      "✓ Basic agent returns assistant message\n",
      "Last: Hello from basic-agent. You said: Echo me please\n",
      "\n",
      "=== Diagnostic: Subagents ===\n",
      "✓ Subagents coordinator returns final messages\n",
      "Last: Hello from implementer. You said: Implement based on findings.\n",
      "\n",
      "=== Diagnostic: Planning ===\n",
      "✓ Planning generated a sequence of steps\n",
      "Last: Hello from planner. You said: Show the plan again.\n",
      "\n",
      "=== Diagnostic: Memory ===\n",
      "✓ Memory persists across thread using config.thread_id\n",
      "Last: You told me your favorite topic is AI agents.\n",
      "\n",
      "Diagnostics complete.\n",
      "\n",
      "============================================================\n",
      "🧠 Deep Agents Validation Suite\n",
      "============================================================\n",
      "✓ Basic agent returns assistant message\n",
      "✓ Subagents coordinator returns final messages\n",
      "✓ Custom backend stub works\n",
      "✓ Planning generated a sequence of steps\n",
      "✓ Memory persists across thread using config.thread_id\n",
      "\n",
      "============================================================\n",
      "✅ All validation tests completed successfully!\n",
      "============================================================\n"
     ]
    }
   ],
   "source": [
    "if __name__ == \"__main__\":\n",
    "    run_diagnostics()\n",
    "    run_validation()"
   ]
  }
 ],
 "metadata": {
  "kernelspec": {
   "display_name": "rag_env",
   "language": "python",
   "name": "python3"
  },
  "language_info": {
   "codemirror_mode": {
    "name": "ipython",
    "version": 3
   },
   "file_extension": ".py",
   "mimetype": "text/x-python",
   "name": "python",
   "nbconvert_exporter": "python",
   "pygments_lexer": "ipython3",
   "version": "3.12.12"
  }
 },
 "nbformat": 4,
 "nbformat_minor": 5
}
